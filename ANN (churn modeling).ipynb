{
 "cells": [
  {
   "cell_type": "code",
   "execution_count": 1,
   "id": "ce6f97eb",
   "metadata": {},
   "outputs": [],
   "source": [
    "import numpy as np\n",
    "import pandas as pd\n",
    "import matplotlib.pyplot as plt\n",
    "import tensorflow as tf"
   ]
  },
  {
   "cell_type": "code",
   "execution_count": 2,
   "id": "1dca5231",
   "metadata": {},
   "outputs": [],
   "source": [
    "dataset=pd.read_csv('Churn_Modelling.csv')"
   ]
  },
  {
   "cell_type": "code",
   "execution_count": 3,
   "id": "338c9da9",
   "metadata": {},
   "outputs": [
    {
     "data": {
      "text/html": [
       "<div>\n",
       "<style scoped>\n",
       "    .dataframe tbody tr th:only-of-type {\n",
       "        vertical-align: middle;\n",
       "    }\n",
       "\n",
       "    .dataframe tbody tr th {\n",
       "        vertical-align: top;\n",
       "    }\n",
       "\n",
       "    .dataframe thead th {\n",
       "        text-align: right;\n",
       "    }\n",
       "</style>\n",
       "<table border=\"1\" class=\"dataframe\">\n",
       "  <thead>\n",
       "    <tr style=\"text-align: right;\">\n",
       "      <th></th>\n",
       "      <th>RowNumber</th>\n",
       "      <th>CustomerId</th>\n",
       "      <th>Surname</th>\n",
       "      <th>CreditScore</th>\n",
       "      <th>Geography</th>\n",
       "      <th>Gender</th>\n",
       "      <th>Age</th>\n",
       "      <th>Tenure</th>\n",
       "      <th>Balance</th>\n",
       "      <th>NumOfProducts</th>\n",
       "      <th>HasCrCard</th>\n",
       "      <th>IsActiveMember</th>\n",
       "      <th>EstimatedSalary</th>\n",
       "      <th>Exited</th>\n",
       "    </tr>\n",
       "  </thead>\n",
       "  <tbody>\n",
       "    <tr>\n",
       "      <th>0</th>\n",
       "      <td>1</td>\n",
       "      <td>15634602</td>\n",
       "      <td>Hargrave</td>\n",
       "      <td>619</td>\n",
       "      <td>France</td>\n",
       "      <td>Female</td>\n",
       "      <td>42</td>\n",
       "      <td>2</td>\n",
       "      <td>0.00</td>\n",
       "      <td>1</td>\n",
       "      <td>1</td>\n",
       "      <td>1</td>\n",
       "      <td>101348.88</td>\n",
       "      <td>1</td>\n",
       "    </tr>\n",
       "    <tr>\n",
       "      <th>1</th>\n",
       "      <td>2</td>\n",
       "      <td>15647311</td>\n",
       "      <td>Hill</td>\n",
       "      <td>608</td>\n",
       "      <td>Spain</td>\n",
       "      <td>Female</td>\n",
       "      <td>41</td>\n",
       "      <td>1</td>\n",
       "      <td>83807.86</td>\n",
       "      <td>1</td>\n",
       "      <td>0</td>\n",
       "      <td>1</td>\n",
       "      <td>112542.58</td>\n",
       "      <td>0</td>\n",
       "    </tr>\n",
       "    <tr>\n",
       "      <th>2</th>\n",
       "      <td>3</td>\n",
       "      <td>15619304</td>\n",
       "      <td>Onio</td>\n",
       "      <td>502</td>\n",
       "      <td>France</td>\n",
       "      <td>Female</td>\n",
       "      <td>42</td>\n",
       "      <td>8</td>\n",
       "      <td>159660.80</td>\n",
       "      <td>3</td>\n",
       "      <td>1</td>\n",
       "      <td>0</td>\n",
       "      <td>113931.57</td>\n",
       "      <td>1</td>\n",
       "    </tr>\n",
       "    <tr>\n",
       "      <th>3</th>\n",
       "      <td>4</td>\n",
       "      <td>15701354</td>\n",
       "      <td>Boni</td>\n",
       "      <td>699</td>\n",
       "      <td>France</td>\n",
       "      <td>Female</td>\n",
       "      <td>39</td>\n",
       "      <td>1</td>\n",
       "      <td>0.00</td>\n",
       "      <td>2</td>\n",
       "      <td>0</td>\n",
       "      <td>0</td>\n",
       "      <td>93826.63</td>\n",
       "      <td>0</td>\n",
       "    </tr>\n",
       "    <tr>\n",
       "      <th>4</th>\n",
       "      <td>5</td>\n",
       "      <td>15737888</td>\n",
       "      <td>Mitchell</td>\n",
       "      <td>850</td>\n",
       "      <td>Spain</td>\n",
       "      <td>Female</td>\n",
       "      <td>43</td>\n",
       "      <td>2</td>\n",
       "      <td>125510.82</td>\n",
       "      <td>1</td>\n",
       "      <td>1</td>\n",
       "      <td>1</td>\n",
       "      <td>79084.10</td>\n",
       "      <td>0</td>\n",
       "    </tr>\n",
       "  </tbody>\n",
       "</table>\n",
       "</div>"
      ],
      "text/plain": [
       "   RowNumber  CustomerId   Surname  CreditScore Geography  Gender  Age  \\\n",
       "0          1    15634602  Hargrave          619    France  Female   42   \n",
       "1          2    15647311      Hill          608     Spain  Female   41   \n",
       "2          3    15619304      Onio          502    France  Female   42   \n",
       "3          4    15701354      Boni          699    France  Female   39   \n",
       "4          5    15737888  Mitchell          850     Spain  Female   43   \n",
       "\n",
       "   Tenure    Balance  NumOfProducts  HasCrCard  IsActiveMember  \\\n",
       "0       2       0.00              1          1               1   \n",
       "1       1   83807.86              1          0               1   \n",
       "2       8  159660.80              3          1               0   \n",
       "3       1       0.00              2          0               0   \n",
       "4       2  125510.82              1          1               1   \n",
       "\n",
       "   EstimatedSalary  Exited  \n",
       "0        101348.88       1  \n",
       "1        112542.58       0  \n",
       "2        113931.57       1  \n",
       "3         93826.63       0  \n",
       "4         79084.10       0  "
      ]
     },
     "execution_count": 3,
     "metadata": {},
     "output_type": "execute_result"
    }
   ],
   "source": [
    "dataset.head()"
   ]
  },
  {
   "cell_type": "code",
   "execution_count": 4,
   "id": "1f28868f",
   "metadata": {},
   "outputs": [],
   "source": [
    "x=dataset.iloc[:,3:13]\n",
    "y=dataset['Exited']"
   ]
  },
  {
   "cell_type": "code",
   "execution_count": 5,
   "id": "4d22840f",
   "metadata": {},
   "outputs": [
    {
     "data": {
      "text/html": [
       "<div>\n",
       "<style scoped>\n",
       "    .dataframe tbody tr th:only-of-type {\n",
       "        vertical-align: middle;\n",
       "    }\n",
       "\n",
       "    .dataframe tbody tr th {\n",
       "        vertical-align: top;\n",
       "    }\n",
       "\n",
       "    .dataframe thead th {\n",
       "        text-align: right;\n",
       "    }\n",
       "</style>\n",
       "<table border=\"1\" class=\"dataframe\">\n",
       "  <thead>\n",
       "    <tr style=\"text-align: right;\">\n",
       "      <th></th>\n",
       "      <th>CreditScore</th>\n",
       "      <th>Geography</th>\n",
       "      <th>Gender</th>\n",
       "      <th>Age</th>\n",
       "      <th>Tenure</th>\n",
       "      <th>Balance</th>\n",
       "      <th>NumOfProducts</th>\n",
       "      <th>HasCrCard</th>\n",
       "      <th>IsActiveMember</th>\n",
       "      <th>EstimatedSalary</th>\n",
       "    </tr>\n",
       "  </thead>\n",
       "  <tbody>\n",
       "    <tr>\n",
       "      <th>0</th>\n",
       "      <td>619</td>\n",
       "      <td>France</td>\n",
       "      <td>Female</td>\n",
       "      <td>42</td>\n",
       "      <td>2</td>\n",
       "      <td>0.00</td>\n",
       "      <td>1</td>\n",
       "      <td>1</td>\n",
       "      <td>1</td>\n",
       "      <td>101348.88</td>\n",
       "    </tr>\n",
       "    <tr>\n",
       "      <th>1</th>\n",
       "      <td>608</td>\n",
       "      <td>Spain</td>\n",
       "      <td>Female</td>\n",
       "      <td>41</td>\n",
       "      <td>1</td>\n",
       "      <td>83807.86</td>\n",
       "      <td>1</td>\n",
       "      <td>0</td>\n",
       "      <td>1</td>\n",
       "      <td>112542.58</td>\n",
       "    </tr>\n",
       "    <tr>\n",
       "      <th>2</th>\n",
       "      <td>502</td>\n",
       "      <td>France</td>\n",
       "      <td>Female</td>\n",
       "      <td>42</td>\n",
       "      <td>8</td>\n",
       "      <td>159660.80</td>\n",
       "      <td>3</td>\n",
       "      <td>1</td>\n",
       "      <td>0</td>\n",
       "      <td>113931.57</td>\n",
       "    </tr>\n",
       "    <tr>\n",
       "      <th>3</th>\n",
       "      <td>699</td>\n",
       "      <td>France</td>\n",
       "      <td>Female</td>\n",
       "      <td>39</td>\n",
       "      <td>1</td>\n",
       "      <td>0.00</td>\n",
       "      <td>2</td>\n",
       "      <td>0</td>\n",
       "      <td>0</td>\n",
       "      <td>93826.63</td>\n",
       "    </tr>\n",
       "    <tr>\n",
       "      <th>4</th>\n",
       "      <td>850</td>\n",
       "      <td>Spain</td>\n",
       "      <td>Female</td>\n",
       "      <td>43</td>\n",
       "      <td>2</td>\n",
       "      <td>125510.82</td>\n",
       "      <td>1</td>\n",
       "      <td>1</td>\n",
       "      <td>1</td>\n",
       "      <td>79084.10</td>\n",
       "    </tr>\n",
       "  </tbody>\n",
       "</table>\n",
       "</div>"
      ],
      "text/plain": [
       "   CreditScore Geography  Gender  Age  Tenure    Balance  NumOfProducts  \\\n",
       "0          619    France  Female   42       2       0.00              1   \n",
       "1          608     Spain  Female   41       1   83807.86              1   \n",
       "2          502    France  Female   42       8  159660.80              3   \n",
       "3          699    France  Female   39       1       0.00              2   \n",
       "4          850     Spain  Female   43       2  125510.82              1   \n",
       "\n",
       "   HasCrCard  IsActiveMember  EstimatedSalary  \n",
       "0          1               1        101348.88  \n",
       "1          0               1        112542.58  \n",
       "2          1               0        113931.57  \n",
       "3          0               0         93826.63  \n",
       "4          1               1         79084.10  "
      ]
     },
     "execution_count": 5,
     "metadata": {},
     "output_type": "execute_result"
    }
   ],
   "source": [
    "x.head()"
   ]
  },
  {
   "cell_type": "code",
   "execution_count": 6,
   "id": "c22ecda6",
   "metadata": {},
   "outputs": [],
   "source": [
    "#encoding\n",
    "geography=pd.get_dummies(x['Geography'],drop_first=True)\n",
    "gender=pd.get_dummies(x['Gender'],drop_first=True)"
   ]
  },
  {
   "cell_type": "code",
   "execution_count": 7,
   "id": "bad849a0",
   "metadata": {},
   "outputs": [
    {
     "data": {
      "text/html": [
       "<div>\n",
       "<style scoped>\n",
       "    .dataframe tbody tr th:only-of-type {\n",
       "        vertical-align: middle;\n",
       "    }\n",
       "\n",
       "    .dataframe tbody tr th {\n",
       "        vertical-align: top;\n",
       "    }\n",
       "\n",
       "    .dataframe thead th {\n",
       "        text-align: right;\n",
       "    }\n",
       "</style>\n",
       "<table border=\"1\" class=\"dataframe\">\n",
       "  <thead>\n",
       "    <tr style=\"text-align: right;\">\n",
       "      <th></th>\n",
       "      <th>CreditScore</th>\n",
       "      <th>Age</th>\n",
       "      <th>Tenure</th>\n",
       "      <th>Balance</th>\n",
       "      <th>NumOfProducts</th>\n",
       "      <th>HasCrCard</th>\n",
       "      <th>IsActiveMember</th>\n",
       "      <th>EstimatedSalary</th>\n",
       "    </tr>\n",
       "  </thead>\n",
       "  <tbody>\n",
       "    <tr>\n",
       "      <th>0</th>\n",
       "      <td>619</td>\n",
       "      <td>42</td>\n",
       "      <td>2</td>\n",
       "      <td>0.00</td>\n",
       "      <td>1</td>\n",
       "      <td>1</td>\n",
       "      <td>1</td>\n",
       "      <td>101348.88</td>\n",
       "    </tr>\n",
       "    <tr>\n",
       "      <th>1</th>\n",
       "      <td>608</td>\n",
       "      <td>41</td>\n",
       "      <td>1</td>\n",
       "      <td>83807.86</td>\n",
       "      <td>1</td>\n",
       "      <td>0</td>\n",
       "      <td>1</td>\n",
       "      <td>112542.58</td>\n",
       "    </tr>\n",
       "    <tr>\n",
       "      <th>2</th>\n",
       "      <td>502</td>\n",
       "      <td>42</td>\n",
       "      <td>8</td>\n",
       "      <td>159660.80</td>\n",
       "      <td>3</td>\n",
       "      <td>1</td>\n",
       "      <td>0</td>\n",
       "      <td>113931.57</td>\n",
       "    </tr>\n",
       "    <tr>\n",
       "      <th>3</th>\n",
       "      <td>699</td>\n",
       "      <td>39</td>\n",
       "      <td>1</td>\n",
       "      <td>0.00</td>\n",
       "      <td>2</td>\n",
       "      <td>0</td>\n",
       "      <td>0</td>\n",
       "      <td>93826.63</td>\n",
       "    </tr>\n",
       "    <tr>\n",
       "      <th>4</th>\n",
       "      <td>850</td>\n",
       "      <td>43</td>\n",
       "      <td>2</td>\n",
       "      <td>125510.82</td>\n",
       "      <td>1</td>\n",
       "      <td>1</td>\n",
       "      <td>1</td>\n",
       "      <td>79084.10</td>\n",
       "    </tr>\n",
       "  </tbody>\n",
       "</table>\n",
       "</div>"
      ],
      "text/plain": [
       "   CreditScore  Age  Tenure    Balance  NumOfProducts  HasCrCard  \\\n",
       "0          619   42       2       0.00              1          1   \n",
       "1          608   41       1   83807.86              1          0   \n",
       "2          502   42       8  159660.80              3          1   \n",
       "3          699   39       1       0.00              2          0   \n",
       "4          850   43       2  125510.82              1          1   \n",
       "\n",
       "   IsActiveMember  EstimatedSalary  \n",
       "0               1        101348.88  \n",
       "1               1        112542.58  \n",
       "2               0        113931.57  \n",
       "3               0         93826.63  \n",
       "4               1         79084.10  "
      ]
     },
     "execution_count": 7,
     "metadata": {},
     "output_type": "execute_result"
    }
   ],
   "source": [
    "x=x.drop(['Geography','Gender'],axis=1)\n",
    "x.head()"
   ]
  },
  {
   "cell_type": "code",
   "execution_count": 8,
   "id": "89b1cba8",
   "metadata": {},
   "outputs": [],
   "source": [
    "x=pd.concat([x,geography,gender],axis=1)"
   ]
  },
  {
   "cell_type": "code",
   "execution_count": 9,
   "id": "f02f17b8",
   "metadata": {},
   "outputs": [
    {
     "data": {
      "text/html": [
       "<div>\n",
       "<style scoped>\n",
       "    .dataframe tbody tr th:only-of-type {\n",
       "        vertical-align: middle;\n",
       "    }\n",
       "\n",
       "    .dataframe tbody tr th {\n",
       "        vertical-align: top;\n",
       "    }\n",
       "\n",
       "    .dataframe thead th {\n",
       "        text-align: right;\n",
       "    }\n",
       "</style>\n",
       "<table border=\"1\" class=\"dataframe\">\n",
       "  <thead>\n",
       "    <tr style=\"text-align: right;\">\n",
       "      <th></th>\n",
       "      <th>CreditScore</th>\n",
       "      <th>Age</th>\n",
       "      <th>Tenure</th>\n",
       "      <th>Balance</th>\n",
       "      <th>NumOfProducts</th>\n",
       "      <th>HasCrCard</th>\n",
       "      <th>IsActiveMember</th>\n",
       "      <th>EstimatedSalary</th>\n",
       "      <th>Germany</th>\n",
       "      <th>Spain</th>\n",
       "      <th>Male</th>\n",
       "    </tr>\n",
       "  </thead>\n",
       "  <tbody>\n",
       "    <tr>\n",
       "      <th>0</th>\n",
       "      <td>619</td>\n",
       "      <td>42</td>\n",
       "      <td>2</td>\n",
       "      <td>0.00</td>\n",
       "      <td>1</td>\n",
       "      <td>1</td>\n",
       "      <td>1</td>\n",
       "      <td>101348.88</td>\n",
       "      <td>0</td>\n",
       "      <td>0</td>\n",
       "      <td>0</td>\n",
       "    </tr>\n",
       "    <tr>\n",
       "      <th>1</th>\n",
       "      <td>608</td>\n",
       "      <td>41</td>\n",
       "      <td>1</td>\n",
       "      <td>83807.86</td>\n",
       "      <td>1</td>\n",
       "      <td>0</td>\n",
       "      <td>1</td>\n",
       "      <td>112542.58</td>\n",
       "      <td>0</td>\n",
       "      <td>1</td>\n",
       "      <td>0</td>\n",
       "    </tr>\n",
       "    <tr>\n",
       "      <th>2</th>\n",
       "      <td>502</td>\n",
       "      <td>42</td>\n",
       "      <td>8</td>\n",
       "      <td>159660.80</td>\n",
       "      <td>3</td>\n",
       "      <td>1</td>\n",
       "      <td>0</td>\n",
       "      <td>113931.57</td>\n",
       "      <td>0</td>\n",
       "      <td>0</td>\n",
       "      <td>0</td>\n",
       "    </tr>\n",
       "    <tr>\n",
       "      <th>3</th>\n",
       "      <td>699</td>\n",
       "      <td>39</td>\n",
       "      <td>1</td>\n",
       "      <td>0.00</td>\n",
       "      <td>2</td>\n",
       "      <td>0</td>\n",
       "      <td>0</td>\n",
       "      <td>93826.63</td>\n",
       "      <td>0</td>\n",
       "      <td>0</td>\n",
       "      <td>0</td>\n",
       "    </tr>\n",
       "    <tr>\n",
       "      <th>4</th>\n",
       "      <td>850</td>\n",
       "      <td>43</td>\n",
       "      <td>2</td>\n",
       "      <td>125510.82</td>\n",
       "      <td>1</td>\n",
       "      <td>1</td>\n",
       "      <td>1</td>\n",
       "      <td>79084.10</td>\n",
       "      <td>0</td>\n",
       "      <td>1</td>\n",
       "      <td>0</td>\n",
       "    </tr>\n",
       "  </tbody>\n",
       "</table>\n",
       "</div>"
      ],
      "text/plain": [
       "   CreditScore  Age  Tenure    Balance  NumOfProducts  HasCrCard  \\\n",
       "0          619   42       2       0.00              1          1   \n",
       "1          608   41       1   83807.86              1          0   \n",
       "2          502   42       8  159660.80              3          1   \n",
       "3          699   39       1       0.00              2          0   \n",
       "4          850   43       2  125510.82              1          1   \n",
       "\n",
       "   IsActiveMember  EstimatedSalary  Germany  Spain  Male  \n",
       "0               1        101348.88        0      0     0  \n",
       "1               1        112542.58        0      1     0  \n",
       "2               0        113931.57        0      0     0  \n",
       "3               0         93826.63        0      0     0  \n",
       "4               1         79084.10        0      1     0  "
      ]
     },
     "execution_count": 9,
     "metadata": {},
     "output_type": "execute_result"
    }
   ],
   "source": [
    "x.head()"
   ]
  },
  {
   "cell_type": "code",
   "execution_count": 10,
   "id": "3307fd5c",
   "metadata": {},
   "outputs": [],
   "source": [
    "#splitting dataset\n",
    "from sklearn.model_selection import train_test_split\n",
    "x_train,x_test,y_train,y_test=train_test_split(x,y,test_size=0.2,random_state=0)"
   ]
  },
  {
   "cell_type": "code",
   "execution_count": 11,
   "id": "d27d6b8a",
   "metadata": {},
   "outputs": [],
   "source": [
    "from sklearn.preprocessing import StandardScaler\n",
    "sc=StandardScaler()\n",
    "x_train=sc.fit_transform(x_train)\n",
    "x_test=sc.fit_transform(x_test)"
   ]
  },
  {
   "cell_type": "code",
   "execution_count": 12,
   "id": "b3b65d07",
   "metadata": {},
   "outputs": [],
   "source": [
    "# Creating ANN \n",
    "from tensorflow.keras.models import Sequential\n",
    "from tensorflow.keras.layers import Dense,Flatten"
   ]
  },
  {
   "cell_type": "code",
   "execution_count": 13,
   "id": "0f2810d8",
   "metadata": {},
   "outputs": [],
   "source": [
    "#from tensorflow.keras.layers import LeakyReLU,PReLU,ELU,ReLU\n",
    "from tensorflow.keras.layers import Dropout #to reduce overfitting"
   ]
  },
  {
   "cell_type": "code",
   "execution_count": 14,
   "id": "cdbf568e",
   "metadata": {},
   "outputs": [],
   "source": [
    "model=Sequential()\n",
    "#adding the input layer\n",
    "model.add(Dense(units=(11),activation='relu'))\n"
   ]
  },
  {
   "cell_type": "code",
   "execution_count": 15,
   "id": "a10090b9",
   "metadata": {},
   "outputs": [],
   "source": [
    "#adding first hidden layer\n",
    "model.add(Dense(units=7,activation='relu'))\n"
   ]
  },
  {
   "cell_type": "code",
   "execution_count": 16,
   "id": "42ec77b6",
   "metadata": {},
   "outputs": [],
   "source": [
    "#adding second hidden layer\n",
    "model.add(Dense(units=7,activation='relu'))"
   ]
  },
  {
   "cell_type": "code",
   "execution_count": 17,
   "id": "364b0936",
   "metadata": {},
   "outputs": [],
   "source": [
    "##adding output layer\n",
    "model.add(Dense(1,activation='sigmoid'))"
   ]
  },
  {
   "cell_type": "code",
   "execution_count": 18,
   "id": "99b0c6a6",
   "metadata": {},
   "outputs": [],
   "source": [
    "#compliling\n",
    "model.compile(optimizer='adam',loss='binary_crossentropy',metrics=['accuracy'])"
   ]
  },
  {
   "cell_type": "code",
   "execution_count": 19,
   "id": "27a76300",
   "metadata": {},
   "outputs": [],
   "source": [
    "#specifying learning rate and use instead adam optimizer\n",
    "import tensorflow\n",
    "opt=tensorflow.keras.optimizers.Adam(learning_rate=0.01)\n"
   ]
  },
  {
   "cell_type": "code",
   "execution_count": 23,
   "id": "d77a2f2b",
   "metadata": {},
   "outputs": [],
   "source": [
    "#early stoping\n",
    "early_stopping=tf.keras.callbacks.EarlyStopping(\n",
    "    monitor=\"val_loss\",\n",
    "    min_delta=0.0001,\n",
    "    patience=20,\n",
    "    verbose=1,\n",
    "    mode=\"auto\",\n",
    "    baseline=None,\n",
    "    restore_best_weights=False,\n",
    ")"
   ]
  },
  {
   "cell_type": "code",
   "execution_count": 27,
   "id": "54acfe34",
   "metadata": {},
   "outputs": [
    {
     "name": "stdout",
     "output_type": "stream",
     "text": [
      "Epoch 1/1000\n",
      "536/536 [==============================] - 1s 989us/step - loss: 0.3852 - accuracy: 0.8397 - val_loss: 0.3816 - val_accuracy: 0.8455\n",
      "Epoch 2/1000\n",
      "536/536 [==============================] - 1s 949us/step - loss: 0.3565 - accuracy: 0.8522 - val_loss: 0.3678 - val_accuracy: 0.8482\n",
      "Epoch 3/1000\n",
      "536/536 [==============================] - 1s 969us/step - loss: 0.3448 - accuracy: 0.8589 - val_loss: 0.3624 - val_accuracy: 0.8550\n",
      "Epoch 4/1000\n",
      "536/536 [==============================] - 1s 1ms/step - loss: 0.3392 - accuracy: 0.8580 - val_loss: 0.3637 - val_accuracy: 0.8497\n",
      "Epoch 5/1000\n",
      "536/536 [==============================] - 1s 1ms/step - loss: 0.3369 - accuracy: 0.8580 - val_loss: 0.3605 - val_accuracy: 0.8523\n",
      "Epoch 6/1000\n",
      "536/536 [==============================] - 1s 1ms/step - loss: 0.3350 - accuracy: 0.8612 - val_loss: 0.3578 - val_accuracy: 0.8580\n",
      "Epoch 7/1000\n",
      "536/536 [==============================] - 1s 1ms/step - loss: 0.3335 - accuracy: 0.8600 - val_loss: 0.3594 - val_accuracy: 0.8546\n",
      "Epoch 8/1000\n",
      "536/536 [==============================] - 1s 998us/step - loss: 0.3328 - accuracy: 0.8608 - val_loss: 0.3565 - val_accuracy: 0.8588\n",
      "Epoch 9/1000\n",
      "536/536 [==============================] - 1s 987us/step - loss: 0.3311 - accuracy: 0.8604 - val_loss: 0.3552 - val_accuracy: 0.8588\n",
      "Epoch 10/1000\n",
      "536/536 [==============================] - 1s 991us/step - loss: 0.3305 - accuracy: 0.8604 - val_loss: 0.3568 - val_accuracy: 0.8580\n",
      "Epoch 11/1000\n",
      "536/536 [==============================] - 1s 1000us/step - loss: 0.3295 - accuracy: 0.8617 - val_loss: 0.3563 - val_accuracy: 0.8546\n",
      "Epoch 12/1000\n",
      "536/536 [==============================] - 1s 980us/step - loss: 0.3288 - accuracy: 0.8642 - val_loss: 0.3544 - val_accuracy: 0.8573\n",
      "Epoch 13/1000\n",
      "536/536 [==============================] - 1s 1ms/step - loss: 0.3278 - accuracy: 0.8656 - val_loss: 0.3540 - val_accuracy: 0.8546\n",
      "Epoch 14/1000\n",
      "536/536 [==============================] - 1s 990us/step - loss: 0.3274 - accuracy: 0.8617 - val_loss: 0.3545 - val_accuracy: 0.8580\n",
      "Epoch 15/1000\n",
      "536/536 [==============================] - 1s 1ms/step - loss: 0.3260 - accuracy: 0.8623 - val_loss: 0.3558 - val_accuracy: 0.8607\n",
      "Epoch 16/1000\n",
      "536/536 [==============================] - 1s 1ms/step - loss: 0.3272 - accuracy: 0.8621 - val_loss: 0.3552 - val_accuracy: 0.8573\n",
      "Epoch 17/1000\n",
      "536/536 [==============================] - 1s 1ms/step - loss: 0.3256 - accuracy: 0.8630 - val_loss: 0.3523 - val_accuracy: 0.8599\n",
      "Epoch 18/1000\n",
      "536/536 [==============================] - 1s 1ms/step - loss: 0.3256 - accuracy: 0.8649 - val_loss: 0.3549 - val_accuracy: 0.8573\n",
      "Epoch 19/1000\n",
      "536/536 [==============================] - 1s 1ms/step - loss: 0.3245 - accuracy: 0.8634 - val_loss: 0.3559 - val_accuracy: 0.8554\n",
      "Epoch 20/1000\n",
      "536/536 [==============================] - 1s 1ms/step - loss: 0.3241 - accuracy: 0.8640 - val_loss: 0.3559 - val_accuracy: 0.8565\n",
      "Epoch 21/1000\n",
      "536/536 [==============================] - 1s 1ms/step - loss: 0.3244 - accuracy: 0.8638 - val_loss: 0.3535 - val_accuracy: 0.8573\n",
      "Epoch 22/1000\n",
      "536/536 [==============================] - 1s 1ms/step - loss: 0.3240 - accuracy: 0.8656 - val_loss: 0.3534 - val_accuracy: 0.8595\n",
      "Epoch 23/1000\n",
      "536/536 [==============================] - 1s 1ms/step - loss: 0.3235 - accuracy: 0.8662 - val_loss: 0.3546 - val_accuracy: 0.8573\n",
      "Epoch 24/1000\n",
      "536/536 [==============================] - 1s 1ms/step - loss: 0.3231 - accuracy: 0.8651 - val_loss: 0.3520 - val_accuracy: 0.8580\n",
      "Epoch 25/1000\n",
      "536/536 [==============================] - 1s 1ms/step - loss: 0.3216 - accuracy: 0.8664 - val_loss: 0.3558 - val_accuracy: 0.8542\n",
      "Epoch 26/1000\n",
      "536/536 [==============================] - 1s 1ms/step - loss: 0.3225 - accuracy: 0.8632 - val_loss: 0.3520 - val_accuracy: 0.8599\n",
      "Epoch 27/1000\n",
      "536/536 [==============================] - 1s 1ms/step - loss: 0.3223 - accuracy: 0.8634 - val_loss: 0.3549 - val_accuracy: 0.8576\n",
      "Epoch 28/1000\n",
      "536/536 [==============================] - 1s 988us/step - loss: 0.3220 - accuracy: 0.8638 - val_loss: 0.3538 - val_accuracy: 0.8580\n",
      "Epoch 29/1000\n",
      "536/536 [==============================] - 1s 1ms/step - loss: 0.3216 - accuracy: 0.8651 - val_loss: 0.3544 - val_accuracy: 0.8591\n",
      "Epoch 30/1000\n",
      "536/536 [==============================] - 1s 1ms/step - loss: 0.3221 - accuracy: 0.8664 - val_loss: 0.3587 - val_accuracy: 0.8569\n",
      "Epoch 31/1000\n",
      "536/536 [==============================] - 1s 996us/step - loss: 0.3218 - accuracy: 0.8643 - val_loss: 0.3526 - val_accuracy: 0.8584\n",
      "Epoch 32/1000\n",
      "536/536 [==============================] - 1s 1ms/step - loss: 0.3212 - accuracy: 0.8632 - val_loss: 0.3531 - val_accuracy: 0.8588\n",
      "Epoch 33/1000\n",
      "536/536 [==============================] - 1s 1ms/step - loss: 0.3207 - accuracy: 0.8664 - val_loss: 0.3542 - val_accuracy: 0.8580\n",
      "Epoch 34/1000\n",
      "536/536 [==============================] - 1s 1ms/step - loss: 0.3218 - accuracy: 0.8640 - val_loss: 0.3529 - val_accuracy: 0.8584\n",
      "Epoch 35/1000\n",
      "536/536 [==============================] - 1s 1ms/step - loss: 0.3192 - accuracy: 0.8653 - val_loss: 0.3570 - val_accuracy: 0.8546\n",
      "Epoch 36/1000\n",
      "536/536 [==============================] - 1s 1ms/step - loss: 0.3211 - accuracy: 0.8660 - val_loss: 0.3530 - val_accuracy: 0.8591\n",
      "Epoch 37/1000\n",
      "536/536 [==============================] - 1s 980us/step - loss: 0.3196 - accuracy: 0.8643 - val_loss: 0.3531 - val_accuracy: 0.8569\n",
      "Epoch 38/1000\n",
      "536/536 [==============================] - 1s 979us/step - loss: 0.3197 - accuracy: 0.8647 - val_loss: 0.3538 - val_accuracy: 0.8588\n",
      "Epoch 39/1000\n",
      "536/536 [==============================] - 1s 925us/step - loss: 0.3199 - accuracy: 0.8662 - val_loss: 0.3548 - val_accuracy: 0.8584\n",
      "Epoch 40/1000\n",
      "536/536 [==============================] - 1s 920us/step - loss: 0.3192 - accuracy: 0.8653 - val_loss: 0.3527 - val_accuracy: 0.8569\n",
      "Epoch 41/1000\n",
      "536/536 [==============================] - 1s 943us/step - loss: 0.3195 - accuracy: 0.8643 - val_loss: 0.3515 - val_accuracy: 0.8565\n",
      "Epoch 42/1000\n",
      "536/536 [==============================] - 0s 927us/step - loss: 0.3195 - accuracy: 0.8662 - val_loss: 0.3527 - val_accuracy: 0.8565\n",
      "Epoch 43/1000\n",
      "536/536 [==============================] - 1s 939us/step - loss: 0.3191 - accuracy: 0.8681 - val_loss: 0.3517 - val_accuracy: 0.8561\n",
      "Epoch 44/1000\n",
      "536/536 [==============================] - 1s 932us/step - loss: 0.3192 - accuracy: 0.8673 - val_loss: 0.3525 - val_accuracy: 0.8569\n",
      "Epoch 45/1000\n",
      "536/536 [==============================] - 1s 938us/step - loss: 0.3189 - accuracy: 0.8658 - val_loss: 0.3517 - val_accuracy: 0.8584\n",
      "Epoch 46/1000\n",
      "536/536 [==============================] - 0s 925us/step - loss: 0.3191 - accuracy: 0.8655 - val_loss: 0.3521 - val_accuracy: 0.8580\n",
      "Epoch 47/1000\n",
      "536/536 [==============================] - 1s 993us/step - loss: 0.3180 - accuracy: 0.8666 - val_loss: 0.3572 - val_accuracy: 0.8573\n",
      "Epoch 48/1000\n",
      "536/536 [==============================] - 1s 1ms/step - loss: 0.3180 - accuracy: 0.8643 - val_loss: 0.3561 - val_accuracy: 0.8588\n",
      "Epoch 49/1000\n",
      "536/536 [==============================] - 1s 1ms/step - loss: 0.3183 - accuracy: 0.8647 - val_loss: 0.3548 - val_accuracy: 0.8550\n",
      "Epoch 50/1000\n",
      "536/536 [==============================] - 1s 1ms/step - loss: 0.3186 - accuracy: 0.8664 - val_loss: 0.3522 - val_accuracy: 0.8565\n",
      "Epoch 51/1000\n",
      "536/536 [==============================] - 1s 1ms/step - loss: 0.3183 - accuracy: 0.8658 - val_loss: 0.3550 - val_accuracy: 0.8550\n",
      "Epoch 52/1000\n",
      "536/536 [==============================] - 1s 1ms/step - loss: 0.3179 - accuracy: 0.8683 - val_loss: 0.3541 - val_accuracy: 0.8538\n",
      "Epoch 53/1000\n",
      "536/536 [==============================] - 1s 1ms/step - loss: 0.3174 - accuracy: 0.8651 - val_loss: 0.3550 - val_accuracy: 0.8573\n",
      "Epoch 54/1000\n",
      "536/536 [==============================] - 1s 1ms/step - loss: 0.3180 - accuracy: 0.8692 - val_loss: 0.3538 - val_accuracy: 0.8535\n",
      "Epoch 55/1000\n",
      "536/536 [==============================] - 1s 1ms/step - loss: 0.3182 - accuracy: 0.8656 - val_loss: 0.3548 - val_accuracy: 0.8550\n",
      "Epoch 56/1000\n",
      "536/536 [==============================] - 1s 984us/step - loss: 0.3178 - accuracy: 0.8660 - val_loss: 0.3550 - val_accuracy: 0.8565\n",
      "Epoch 57/1000\n"
     ]
    },
    {
     "name": "stdout",
     "output_type": "stream",
     "text": [
      "536/536 [==============================] - 1s 926us/step - loss: 0.3180 - accuracy: 0.8658 - val_loss: 0.3555 - val_accuracy: 0.8561\n",
      "Epoch 58/1000\n",
      "536/536 [==============================] - 1s 918us/step - loss: 0.3164 - accuracy: 0.8666 - val_loss: 0.3565 - val_accuracy: 0.8550\n",
      "Epoch 59/1000\n",
      "536/536 [==============================] - 1s 983us/step - loss: 0.3171 - accuracy: 0.8673 - val_loss: 0.3538 - val_accuracy: 0.8569\n",
      "Epoch 60/1000\n",
      "536/536 [==============================] - 1s 1ms/step - loss: 0.3176 - accuracy: 0.8660 - val_loss: 0.3538 - val_accuracy: 0.8550\n",
      "Epoch 61/1000\n",
      "536/536 [==============================] - 1s 951us/step - loss: 0.3170 - accuracy: 0.8688 - val_loss: 0.3554 - val_accuracy: 0.8557\n",
      "Epoch 61: early stopping\n"
     ]
    }
   ],
   "source": [
    "model_history=model.fit(x_train,y_train,validation_split=0.33,batch_size=10,epochs=1000,callbacks=early_stopping)"
   ]
  },
  {
   "cell_type": "code",
   "execution_count": 20,
   "id": "f073b427",
   "metadata": {},
   "outputs": [
    {
     "name": "stdout",
     "output_type": "stream",
     "text": [
      "Epoch 1/10\n",
      "54/54 [==============================] - 3s 4ms/step - loss: 0.8081 - accuracy: 0.3392 - val_loss: 0.7245 - val_accuracy: 0.5195\n",
      "Epoch 2/10\n",
      "54/54 [==============================] - 0s 1ms/step - loss: 0.6913 - accuracy: 0.6604 - val_loss: 0.6716 - val_accuracy: 0.7501\n",
      "Epoch 3/10\n",
      "54/54 [==============================] - 0s 1ms/step - loss: 0.6609 - accuracy: 0.7824 - val_loss: 0.6515 - val_accuracy: 0.7955\n",
      "Epoch 4/10\n",
      "54/54 [==============================] - 0s 1ms/step - loss: 0.6334 - accuracy: 0.7975 - val_loss: 0.6038 - val_accuracy: 0.7967\n",
      "Epoch 5/10\n",
      "54/54 [==============================] - 0s 1ms/step - loss: 0.5629 - accuracy: 0.7964 - val_loss: 0.5223 - val_accuracy: 0.7955\n",
      "Epoch 6/10\n",
      "54/54 [==============================] - 0s 1ms/step - loss: 0.5010 - accuracy: 0.7962 - val_loss: 0.4805 - val_accuracy: 0.7955\n",
      "Epoch 7/10\n",
      "54/54 [==============================] - 0s 1ms/step - loss: 0.4678 - accuracy: 0.7962 - val_loss: 0.4550 - val_accuracy: 0.7955\n",
      "Epoch 8/10\n",
      "54/54 [==============================] - 0s 1ms/step - loss: 0.4460 - accuracy: 0.7974 - val_loss: 0.4388 - val_accuracy: 0.8016\n",
      "Epoch 9/10\n",
      "54/54 [==============================] - 0s 1ms/step - loss: 0.4307 - accuracy: 0.8033 - val_loss: 0.4278 - val_accuracy: 0.8092\n",
      "Epoch 10/10\n",
      "54/54 [==============================] - 0s 1ms/step - loss: 0.4184 - accuracy: 0.8132 - val_loss: 0.4179 - val_accuracy: 0.8179\n"
     ]
    },
    {
     "data": {
      "text/plain": [
       "<keras.callbacks.History at 0x1e141da4d60>"
      ]
     },
     "execution_count": 20,
     "metadata": {},
     "output_type": "execute_result"
    }
   ],
   "source": [
    "#model.fit(x_train,y_train,validation_split=0.33,batch_size=100,epochs=10)"
   ]
  },
  {
   "cell_type": "code",
   "execution_count": 29,
   "id": "1ee79e40",
   "metadata": {},
   "outputs": [
    {
     "data": {
      "text/plain": [
       "dict_keys(['loss', 'accuracy', 'val_loss', 'val_accuracy'])"
      ]
     },
     "execution_count": 29,
     "metadata": {},
     "output_type": "execute_result"
    }
   ],
   "source": [
    "model_history.history.keys()"
   ]
  },
  {
   "cell_type": "code",
   "execution_count": 31,
   "id": "5c201ae4",
   "metadata": {},
   "outputs": [
    {
     "data": {
      "image/png": "[encoded data removed]",
      "text/plain": [
       "<Figure size 640x480 with 1 Axes>"
      ]
     },
     "metadata": {},
     "output_type": "display_data"
    }
   ],
   "source": [
    "plt.plot(model_history.history['accuracy'])\n",
    "plt.plot(model_history.history['val_accuracy'])\n",
    "plt.title('model_accuracy')\n",
    "plt.ylabel('accuracy')\n",
    "plt.xlabel('epoch')\n",
    "plt.legend(['train','test'],loc='upper left')\n",
    "plt.show()"
   ]
  },
  {
   "cell_type": "code",
   "execution_count": 32,
   "id": "eb6133f7",
   "metadata": {},
   "outputs": [
    {
     "data": {
      "image/png": "[encoded data removed]",
      "text/plain": [
       "<Figure size 640x480 with 1 Axes>"
      ]
     },
     "metadata": {},
     "output_type": "display_data"
    }
   ],
   "source": [
    "plt.plot(model_history.history['loss'])\n",
    "plt.plot(model_history.history['val_loss'])\n",
    "plt.title('model_loss')\n",
    "plt.ylabel('loss')\n",
    "plt.xlabel('epoch')\n",
    "plt.legend(['train','test'],loc='upper left')\n",
    "plt.show()"
   ]
  },
  {
   "cell_type": "code",
   "execution_count": 33,
   "id": "49d8110c",
   "metadata": {},
   "outputs": [
    {
     "name": "stdout",
     "output_type": "stream",
     "text": [
      "63/63 [==============================] - 2s 791us/step\n"
     ]
    }
   ],
   "source": [
    "#making the predictions and evaluating the model\n",
    "#predicting the test set results\n",
    "y_pred=model.predict(x_test)\n",
    "y_pred=(y_pred >=0.5)"
   ]
  },
  {
   "cell_type": "code",
   "execution_count": 35,
   "id": "bc641e8e",
   "metadata": {},
   "outputs": [
    {
     "data": {
      "text/plain": [
       "array([[1528,   67],\n",
       "       [ 213,  192]], dtype=int64)"
      ]
     },
     "execution_count": 35,
     "metadata": {},
     "output_type": "execute_result"
    }
   ],
   "source": [
    "#make the confusion matrix\n",
    "from sklearn.metrics import confusion_matrix\n",
    "cm=confusion_matrix(y_test,y_pred)\n",
    "cm"
   ]
  },
  {
   "cell_type": "code",
   "execution_count": 36,
   "id": "232aac23",
   "metadata": {},
   "outputs": [
    {
     "data": {
      "text/plain": [
       "0.86"
      ]
     },
     "execution_count": 36,
     "metadata": {},
     "output_type": "execute_result"
    }
   ],
   "source": [
    "#calculate accuracy\n",
    "from sklearn.metrics import accuracy_score\n",
    "score=accuracy_score(y_pred,y_test)\n",
    "score"
   ]
  },
  {
   "cell_type": "code",
   "execution_count": 37,
   "id": "b6a05463",
   "metadata": {},
   "outputs": [
    {
     "data": {
      "text/plain": [
       "[array([[ 0.26215255, -0.54597574, -0.20987245,  0.3142358 , -0.23438215,\n",
       "         -0.31267387,  0.35171497,  0.45121938, -0.5052802 ,  0.14047955,\n",
       "         -0.04005831],\n",
       "        [ 0.44456658, -0.07659702,  0.1347442 ,  0.3496055 ,  0.88579184,\n",
       "          0.10326561, -0.50986254, -0.04749686,  1.0075204 ,  0.8021576 ,\n",
       "         -0.2643768 ],\n",
       "        [-0.22881484, -0.13683853, -0.30685082,  0.24091218, -0.10203014,\n",
       "         -0.10235381,  0.141729  , -0.14799884,  0.0910233 , -0.0077603 ,\n",
       "          0.11884172],\n",
       "        [ 0.08878779, -0.28242376,  0.21186605,  0.32937783, -0.46416986,\n",
       "         -0.7077017 , -0.1082149 ,  0.3130893 , -0.5998297 ,  0.29121044,\n",
       "         -0.19514343],\n",
       "        [ 0.13935776,  0.09020951,  0.9232208 ,  0.9919422 , -0.45356277,\n",
       "         -0.6523135 ,  0.17603178, -0.3719398 ,  0.7347027 , -0.6076837 ,\n",
       "          0.34761798],\n",
       "        [-0.0873107 , -0.08110663, -0.22251432,  0.12621388, -0.05448319,\n",
       "          0.13170032, -0.0367271 ,  0.08107373,  0.17665677, -0.22664697,\n",
       "         -0.00340758],\n",
       "        [ 0.96175927, -0.00543429, -0.08350167, -0.40752846, -0.2026405 ,\n",
       "         -0.22892964, -0.13524131,  0.5276885 ,  0.4327254 ,  0.2681382 ,\n",
       "         -0.11724422],\n",
       "        [-0.15156169, -0.02235571,  0.2094258 , -0.07465861,  0.1372003 ,\n",
       "         -0.12185668, -0.21376963,  0.5443481 ,  0.15126547,  0.21049221,\n",
       "          0.12509082],\n",
       "        [-0.52603227,  0.00837878, -0.18090677, -0.08768972,  0.47560203,\n",
       "         -0.04350636, -0.62407935,  0.5293593 ,  0.46535748, -0.0811096 ,\n",
       "          0.00630494],\n",
       "        [ 0.03361381, -0.5697229 ,  0.1625966 ,  0.12277175, -0.18605992,\n",
       "          0.12434143,  0.31768265,  0.08168004,  0.01716722,  0.0916729 ,\n",
       "          0.12061899],\n",
       "        [ 0.10882645, -0.0079987 ,  0.39622262, -0.30625522, -0.08312275,\n",
       "          0.29782918,  0.23185961,  0.05577345,  0.14604291,  0.00167693,\n",
       "          0.49596968]], dtype=float32),\n",
       " array([-0.213479  ,  0.5540991 , -0.23253067, -0.22540043,  0.25563535,\n",
       "        -0.04212128,  0.6518551 , -0.10569644,  0.02379293, -0.45220482,\n",
       "         0.3685346 ], dtype=float32),\n",
       " array([[-0.81042284,  0.74540126,  0.01388186,  0.13336553,  0.55910003,\n",
       "         -0.09063112, -0.34955227],\n",
       "        [-0.7800534 , -0.18133649,  0.07732975, -0.23117505,  0.39781442,\n",
       "          0.01715684,  0.57538354],\n",
       "        [-0.6588239 , -0.40298694,  0.6754264 ,  0.02560956,  0.11393475,\n",
       "         -0.6915994 , -0.04912712],\n",
       "        [-0.39473757, -0.73142046,  0.779568  ,  0.25385913,  0.28553358,\n",
       "          0.19610116,  0.06975542],\n",
       "        [-0.5203376 , -0.4125111 , -0.11126477,  0.23128448, -0.4389225 ,\n",
       "          0.8087018 , -0.2126553 ],\n",
       "        [ 0.38851303, -0.15395682,  0.03763986, -0.542974  ,  0.18677668,\n",
       "          0.6611195 ,  0.27267912],\n",
       "        [ 0.5412058 ,  0.439371  ,  0.05307432,  0.24140356,  0.23560719,\n",
       "          0.16761318,  0.42947417],\n",
       "        [ 0.15418622, -0.12508221, -0.08648343,  0.07365693, -0.3394783 ,\n",
       "          0.53716993,  0.52109784],\n",
       "        [ 0.13131611,  0.78748196,  0.34976503,  0.8649671 , -0.66964966,\n",
       "          0.40650523, -0.47634244],\n",
       "        [ 0.29773825,  0.52891505, -0.11796878, -0.22165006,  0.30962816,\n",
       "          0.1611311 , -0.45947307],\n",
       "        [-0.49336952,  0.41281667, -0.27310616, -0.13189839,  0.11501504,\n",
       "         -0.30039224, -0.02359083]], dtype=float32),\n",
       " array([-0.04983876,  0.2715938 , -0.24227916, -0.1211328 , -0.28858173,\n",
       "         0.25069332,  0.77662915], dtype=float32),\n",
       " array([[-0.50830835,  0.6787712 ,  0.32764444, -1.1352786 ,  0.14382732,\n",
       "          0.4290491 , -0.7858668 ],\n",
       "        [-0.3453412 , -0.51765627, -0.24574018,  0.8165547 , -0.4266261 ,\n",
       "         -0.44861808,  0.3215414 ],\n",
       "        [ 0.7497761 ,  0.71336806, -0.77888715, -0.15822   , -0.53768235,\n",
       "         -0.8467041 , -0.31224594],\n",
       "        [ 0.49196586,  0.558841  ,  0.03766727,  0.1457887 , -0.2843109 ,\n",
       "         -0.6398364 ,  0.66350865],\n",
       "        [ 0.48980016,  0.4019615 , -0.10917518, -0.39265543, -0.5322384 ,\n",
       "         -0.4307316 , -0.7251629 ],\n",
       "        [-0.558072  , -0.3604248 ,  0.5693995 , -0.09821159, -0.19156456,\n",
       "          0.5409237 , -0.1516823 ],\n",
       "        [-0.6902788 , -0.6618969 , -0.07536844,  0.8242153 , -0.44311613,\n",
       "          0.1508543 ,  1.34323   ]], dtype=float32),\n",
       " array([-0.04987367, -0.03435274,  0.3203684 ,  0.18314026,  0.        ,\n",
       "         0.40914178,  0.28977326], dtype=float32),\n",
       " array([[ 1.0272558],\n",
       "        [ 0.8407733],\n",
       "        [ 0.5421668],\n",
       "        [-0.5132069],\n",
       "        [-0.7036225],\n",
       "        [ 0.8046533],\n",
       "        [-1.0507547]], dtype=float32),\n",
       " array([-0.01669829], dtype=float32)]"
      ]
     },
     "execution_count": 37,
     "metadata": {},
     "output_type": "execute_result"
    }
   ],
   "source": [
    "#get the weights\n",
    "model.get_weights()"
   ]
  },
  {
   "cell_type": "code",
   "execution_count": null,
   "id": "83dea3b9",
   "metadata": {},
   "outputs": [],
   "source": []
  }
 ],
 "metadata": {
  "kernelspec": {
   "display_name": "Python 3 (ipykernel)",
   "language": "python",
   "name": "python3"
  },
  "language_info": {
   "codemirror_mode": {
    "name": "ipython",
    "version": 3
   },
   "file_extension": ".py",
   "mimetype": "text/x-python",
   "name": "python",
   "nbconvert_exporter": "python",
   "pygments_lexer": "ipython3",
   "version": "3.9.13"
  }
 },
 "nbformat": 4,
 "nbformat_minor": 5
}
